{
 "cells": [
  {
   "cell_type": "code",
   "execution_count": 1,
   "id": "9b2624fa",
   "metadata": {},
   "outputs": [
    {
     "data": {
      "application/vnd.jupyter.widget-view+json": {
       "model_id": "3fb9f07d0c30463ba3122d39cb3f64f1",
       "version_major": 2,
       "version_minor": 0
      },
      "text/plain": [
       "Text(value='London', description='City:', layout=Layout(width='300px'))"
      ]
     },
     "metadata": {},
     "output_type": "display_data"
    },
    {
     "data": {
      "application/vnd.jupyter.widget-view+json": {
       "model_id": "815dce40d0da4b17af1609d036e9bcc5",
       "version_major": 2,
       "version_minor": 0
      },
      "text/plain": [
       "Button(description='Get Weather', style=ButtonStyle())"
      ]
     },
     "metadata": {},
     "output_type": "display_data"
    },
    {
     "data": {
      "application/vnd.jupyter.widget-view+json": {
       "model_id": "79f6f398eb314f318f51f5b0adfcafb0",
       "version_major": 2,
       "version_minor": 0
      },
      "text/plain": [
       "Output()"
      ]
     },
     "metadata": {},
     "output_type": "display_data"
    }
   ],
   "source": [
    "import requests\n",
    "import matplotlib.pyplot as plt\n",
    "from ipywidgets import widgets, Button, Layout\n",
    "\n",
    "def get_weather(city):\n",
    "    api_key = 'de90fcda3d65e375c3293559b0b29a26'\n",
    "    url = f'http://api.openweathermap.org/data/2.5/weather?q={city}&appid={api_key}&units=metric'\n",
    "    response = requests.get(url)\n",
    "    if response.status_code == 200:\n",
    "        weather_data = response.json()\n",
    "        display_dashboard(weather_data)\n",
    "    else:\n",
    "        print(\"Failed to retrieve data:\", response.status_code)\n",
    "\n",
    "def display_dashboard(data):\n",
    "    # Clearing the output below the button after each click\n",
    "    output.clear_output()\n",
    "    \n",
    "    # Using matplotlib to plot the temperature and humidity\n",
    "    fig, (ax1, ax2) = plt.subplots(1, 2, figsize=(10, 4))\n",
    "    \n",
    "    # Temperature plot\n",
    "    ax1.bar(['Temperature (°C)'], [data['main']['temp']], color='lightblue')\n",
    "    ax1.set_title(f\"Current Temperature in {data['name']}\")\n",
    "    ax1.set_ylabel(\"Degrees Celsius\")\n",
    "    \n",
    "    # Humidity plot\n",
    "    ax2.bar(['Humidity (%)'], [data['main']['humidity']], color='lightgreen')\n",
    "    ax2.set_title(f\"Current Humidity in {data['name']}\")\n",
    "    ax2.set_ylabel(\"Percentage\")\n",
    "    \n",
    "    # Displaying weather details\n",
    "    with output:\n",
    "        plt.show()\n",
    "        print(f\"Weather: {data['weather'][0]['description']}\")\n",
    "        print(f\"Wind Speed: {data['wind']['speed']} km/h\")\n",
    "\n",
    "def on_button_clicked(b):\n",
    "    city = text.value\n",
    "    get_weather(city)\n",
    "\n",
    "# Widget setup\n",
    "text = widgets.Text(\n",
    "    value='London',\n",
    "    description='City:',\n",
    "    layout=Layout(width='300px')\n",
    ")\n",
    "button = Button(description=\"Get Weather\")\n",
    "output = widgets.Output()\n",
    "\n",
    "button.on_click(on_button_clicked)\n",
    "\n",
    "# Display widgets\n",
    "display(text, button, output)\n"
   ]
  },
  {
   "cell_type": "code",
   "execution_count": null,
   "id": "2e9c0391",
   "metadata": {},
   "outputs": [],
   "source": []
  }
 ],
 "metadata": {
  "kernelspec": {
   "display_name": "Python 3 (ipykernel)",
   "language": "python",
   "name": "python3"
  },
  "language_info": {
   "codemirror_mode": {
    "name": "ipython",
    "version": 3
   },
   "file_extension": ".py",
   "mimetype": "text/x-python",
   "name": "python",
   "nbconvert_exporter": "python",
   "pygments_lexer": "ipython3",
   "version": "3.11.5"
  }
 },
 "nbformat": 4,
 "nbformat_minor": 5
}
